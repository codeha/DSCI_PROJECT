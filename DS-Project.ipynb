{
 "cells": [
  {
   "cell_type": "markdown",
   "id": "224fcd0c-0c1a-4f4b-912f-a9b018ea99de",
   "metadata": {},
   "source": [
    "Create an electronic report in English with a maximum of 2000 words (excluding citations) using Jupyter. The report should include the posed question, conducted analysis, and derived conclusion. Only one team member needs to submit this report. It is not required to include all tasks completed by every group member in their individual assignments; tailor the final report to the collective group's work. Make sure to reach a consensus among all team members on the final content of the report. If needed, consult your TA and Instructor for further guidance.\n",
    "\n",
    "You must submit 2 files:\n",
    "\n",
    "an .html file (File -> Download As -> HTML)\n",
    "an .ipynb file. This file must be fully reproducible. It must run completely from top to bottom without any additional files.\n",
    "Each report should include the following sections:"
   ]
  },
  {
   "cell_type": "markdown",
   "id": "5bfcf213-fe25-4f49-8b78-2818a48c57d2",
   "metadata": {},
   "source": [
    "Title\n",
    "Introduction:\n",
    "provide some relevant background information on the topic so that someone unfamiliar with it will be prepared to understand the rest of your report\n",
    "clearly state the question you tried to answer with your project\n",
    "identify and fully describe the dataset that was used to answer the question\n"
   ]
  },
  {
   "cell_type": "markdown",
   "id": "5252c3c7-1c17-4513-bdea-dd4496f95636",
   "metadata": {},
   "source": [
    "We will be answering Question 1: We would like to know which \"kinds\" of players are most likely to contribute a large amount of data so that we can target those players in our recruiting efforts.\n"
   ]
  },
  {
   "cell_type": "markdown",
   "id": "96250552-3734-48c8-96ca-5db9fc8fc38c",
   "metadata": {},
   "source": [
    "Methods & Results:\n",
    "describe the methods you used to perform your analysis from beginning to end that narrates the analysis code.\n",
    "your report should include code which:\n",
    "loads data \n",
    "wrangles and cleans the data to the format necessary for the planned analysis\n",
    "performs a summary of the data set that is relevant for exploratory data analysis related to the planned analysis \n",
    "creates a visualization of the dataset that is relevant for exploratory data analysis related to the planned analysis\n",
    "performs the data analysis\n",
    "creates a visualization of the analysis \n",
    "note: all figures should have a figure number and a legend"
   ]
  },
  {
   "cell_type": "markdown",
   "id": "7abcde57-630a-43b4-9671-1e8007d26213",
   "metadata": {},
   "source": [
    "Discussion:\n",
    "summarize what you found\n",
    "discuss whether this is what you expected to find?\n",
    "discuss what impact could such findings have?\n",
    "discuss what future questions could this lead to?\n",
    "References\n",
    "You may include references if necessary, as long as they all have a consistent citation style."
   ]
  }
 ],
 "metadata": {
  "kernelspec": {
   "display_name": "R",
   "language": "R",
   "name": "ir"
  },
  "language_info": {
   "codemirror_mode": "r",
   "file_extension": ".r",
   "mimetype": "text/x-r-source",
   "name": "R",
   "pygments_lexer": "r",
   "version": "4.3.3"
  }
 },
 "nbformat": 4,
 "nbformat_minor": 5
}
